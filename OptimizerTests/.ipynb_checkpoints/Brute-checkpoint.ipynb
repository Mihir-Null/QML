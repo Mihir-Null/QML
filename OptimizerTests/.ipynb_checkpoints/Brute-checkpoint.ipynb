{
 "cells": [
  {
   "cell_type": "code",
   "execution_count": 2,
   "id": "11c2622e-3fec-453a-8fb3-16d12d7d3cfa",
   "metadata": {},
   "outputs": [
    {
     "ename": "NameError",
     "evalue": "name 'graph' is not defined",
     "output_type": "error",
     "traceback": [
      "\u001b[0;31m---------------------------------------------------------------------------\u001b[0m",
      "\u001b[0;31mNameError\u001b[0m                                 Traceback (most recent call last)",
      "Cell \u001b[0;32mIn[2], line 13\u001b[0m\n\u001b[1;32m     11\u001b[0m \u001b[38;5;66;03m#rx.visualization.mpl_draw(G) # rx refuses to collaborate in this notebook for some reason\u001b[39;00m\n\u001b[1;32m     12\u001b[0m nx_graph \u001b[38;5;241m=\u001b[39m nx\u001b[38;5;241m.\u001b[39mGraph()\n\u001b[0;32m---> 13\u001b[0m nx_graph\u001b[38;5;241m.\u001b[39madd_edges_from(\u001b[43mgraph\u001b[49m\u001b[38;5;241m.\u001b[39medge_list())\n\u001b[1;32m     15\u001b[0m \u001b[38;5;66;03m# Plot the graph with matplotlib\u001b[39;00m\n\u001b[1;32m     16\u001b[0m nx\u001b[38;5;241m.\u001b[39mdraw(nx_graph, with_labels\u001b[38;5;241m=\u001b[39m\u001b[38;5;28;01mTrue\u001b[39;00m, node_color\u001b[38;5;241m=\u001b[39m\u001b[38;5;124m\"\u001b[39m\u001b[38;5;124mlightblue\u001b[39m\u001b[38;5;124m\"\u001b[39m, font_weight\u001b[38;5;241m=\u001b[39m\u001b[38;5;124m\"\u001b[39m\u001b[38;5;124mbold\u001b[39m\u001b[38;5;124m\"\u001b[39m)\n",
      "\u001b[0;31mNameError\u001b[0m: name 'graph' is not defined"
     ]
    }
   ],
   "source": [
    "import numpy as np\n",
    "import rustworkx as rx\n",
    "import networkx as nx\n",
    "\n",
    "num_nodes = 5\n",
    "w = np.array(\n",
    "    [[0.0, 1.0, 1.0, 1.0, 1.0], [1.0, 0.0, 0.0, 0.0, 0.0], [1.0, 0.0, 0.0, 0.0, 0.0], [1.0, 0.0, 0.0, 0.0, 0.0], [1.0, 0.0, 0.0, 0.0, 0.0]]\n",
    ")\n",
    "\n",
    "G = rx.PyGraph.from_adjacency_matrix(w)\n",
    "#rx.visualization.mpl_draw(G) # rx refuses to collaborate in this notebook for some reason\n",
    "nx_graph = nx.Graph()\n",
    "nx_graph.add_edges_from(G.edge_list())\n",
    "\n",
    "# Plot the graph with matplotlib\n",
    "nx.draw(nx_graph, with_labels=True, node_color=\"lightblue\", font_weight=\"bold\")\n",
    "plt.show()"
   ]
  },
  {
   "cell_type": "code",
   "execution_count": 2,
   "id": "4640cb50-a3e5-446c-8aae-55fb8831a0eb",
   "metadata": {},
   "outputs": [
    {
     "name": "stdout",
     "output_type": "stream",
     "text": [
      "Objective value computed by the brute-force method is 3\n"
     ]
    }
   ],
   "source": [
    "def objective_value(x, w):\n",
    "    \"\"\"Compute the value of a cut.\n",
    "    Args:\n",
    "        x: Binary string as numpy array.\n",
    "        w: Adjacency matrix.\n",
    "    Returns:\n",
    "        Value of the cut.\n",
    "    \"\"\"\n",
    "    X = np.outer(x, (1 - x))\n",
    "    w_01 = np.where(w != 0, 1, 0)\n",
    "    return np.sum(w_01 * X)\n",
    "\n",
    "\n",
    "def bitfield(n, L):\n",
    "    result = np.binary_repr(n, L)\n",
    "    return [int(digit) for digit in result]  # [2:] to chop off the \"0b\" part\n",
    "\n",
    "\n",
    "# use the brute-force way to generate the oracle\n",
    "L = num_nodes\n",
    "max = 2**L\n",
    "sol = np.inf\n",
    "for i in range(max):\n",
    "    cur = bitfield(i, L)\n",
    "\n",
    "    how_many_nonzero = np.count_nonzero(cur)\n",
    "    if how_many_nonzero * 2 != L:  # not balanced\n",
    "        continue\n",
    "\n",
    "    cur_v = objective_value(np.array(cur), w)\n",
    "    if cur_v < sol:\n",
    "        sol = cur_v\n",
    "\n",
    "print(f\"Objective value computed by the brute-force method is {sol}\")"
   ]
  },
  {
   "cell_type": "code",
   "execution_count": null,
   "id": "80989d42-6731-4170-b2f8-995b3d8a1097",
   "metadata": {},
   "outputs": [],
   "source": []
  }
 ],
 "metadata": {
  "kernelspec": {
   "display_name": "Python 3 (ipykernel)",
   "language": "python",
   "name": "python3"
  },
  "language_info": {
   "codemirror_mode": {
    "name": "ipython",
    "version": 3
   },
   "file_extension": ".py",
   "mimetype": "text/x-python",
   "name": "python",
   "nbconvert_exporter": "python",
   "pygments_lexer": "ipython3",
   "version": "3.12.0"
  }
 },
 "nbformat": 4,
 "nbformat_minor": 5
}
