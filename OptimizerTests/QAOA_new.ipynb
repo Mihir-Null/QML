{
 "cells": [
  {
   "cell_type": "code",
   "execution_count": 2,
   "id": "dfc41188",
   "metadata": {},
   "outputs": [
    {
     "name": "stdout",
     "output_type": "stream",
     "text": [
      "\u001b[33mDEPRECATION: Loading egg at /home/mihir/anaconda3/lib/python3.11/site-packages/pygist-3.0.0-py3.11-linux-x86_64.egg is deprecated. pip 23.3 will enforce this behaviour change. A possible replacement is to use pip for package installation..\u001b[0m\u001b[33m\n",
      "\u001b[0m\u001b[33mDEPRECATION: Loading egg at /home/mihir/anaconda3/lib/python3.11/site-packages/warp-5.0-py3.11-linux-x86_64.egg is deprecated. pip 23.3 will enforce this behaviour change. A possible replacement is to use pip for package installation..\u001b[0m\u001b[33m\n",
      "\u001b[0mCollecting pennylane\n",
      "  Obtaining dependency information for pennylane from https://files.pythonhosted.org/packages/5a/00/f0ed0545b10cbbf484c0a8a5ba46f18f3294fd6e1c3089fcb52908cfe601/PennyLane-0.38.0-py3-none-any.whl.metadata\n",
      "  Downloading PennyLane-0.38.0-py3-none-any.whl.metadata (9.3 kB)\n",
      "Requirement already satisfied: numpy<2.0 in /home/mihir/anaconda3/lib/python3.11/site-packages (from pennylane) (1.24.3)\n",
      "Requirement already satisfied: scipy in /home/mihir/anaconda3/lib/python3.11/site-packages (from pennylane) (1.11.1)\n",
      "Requirement already satisfied: networkx in /home/mihir/anaconda3/lib/python3.11/site-packages (from pennylane) (3.1)\n",
      "Requirement already satisfied: rustworkx>=0.14.0 in /home/mihir/anaconda3/lib/python3.11/site-packages (from pennylane) (0.15.1)\n",
      "Collecting autograd (from pennylane)\n",
      "  Obtaining dependency information for autograd from https://files.pythonhosted.org/packages/6d/90/d13cf396989052cadd8511c1878b0913bbce28eeef5feb95710a92e03076/autograd-1.7.0-py3-none-any.whl.metadata\n",
      "  Downloading autograd-1.7.0-py3-none-any.whl.metadata (7.5 kB)\n",
      "Requirement already satisfied: toml in /home/mihir/anaconda3/lib/python3.11/site-packages (from pennylane) (0.10.2)\n",
      "Requirement already satisfied: appdirs in /home/mihir/anaconda3/lib/python3.11/site-packages (from pennylane) (1.4.4)\n",
      "Collecting autoray>=0.6.11 (from pennylane)\n",
      "  Obtaining dependency information for autoray>=0.6.11 from https://files.pythonhosted.org/packages/e5/ac/d8fb343def8bc5b7f82f5dcf0892e9020a446f21107a2d7de1537ff2fdf3/autoray-0.7.0-py3-none-any.whl.metadata\n",
      "  Downloading autoray-0.7.0-py3-none-any.whl.metadata (5.8 kB)\n",
      "Collecting cachetools (from pennylane)\n",
      "  Obtaining dependency information for cachetools from https://files.pythonhosted.org/packages/a4/07/14f8ad37f2d12a5ce41206c21820d8cb6561b728e51fad4530dff0552a67/cachetools-5.5.0-py3-none-any.whl.metadata\n",
      "  Downloading cachetools-5.5.0-py3-none-any.whl.metadata (5.3 kB)\n",
      "Collecting pennylane-lightning>=0.38 (from pennylane)\n",
      "  Obtaining dependency information for pennylane-lightning>=0.38 from https://files.pythonhosted.org/packages/d4/3f/dbf4ed53cb9e6f40e32bab10e64ad9b8c61f4291f9277ad56f9753e023ab/PennyLane_Lightning-0.38.0-cp311-cp311-manylinux_2_28_x86_64.whl.metadata\n",
      "  Downloading PennyLane_Lightning-0.38.0-cp311-cp311-manylinux_2_28_x86_64.whl.metadata (26 kB)\n",
      "Requirement already satisfied: requests in /home/mihir/anaconda3/lib/python3.11/site-packages (from pennylane) (2.31.0)\n",
      "Requirement already satisfied: typing-extensions in /home/mihir/anaconda3/lib/python3.11/site-packages (from pennylane) (4.12.2)\n",
      "Requirement already satisfied: packaging in /home/mihir/anaconda3/lib/python3.11/site-packages (from pennylane) (23.1)\n",
      "Requirement already satisfied: charset-normalizer<4,>=2 in /home/mihir/anaconda3/lib/python3.11/site-packages (from requests->pennylane) (2.0.4)\n",
      "Requirement already satisfied: idna<4,>=2.5 in /home/mihir/anaconda3/lib/python3.11/site-packages (from requests->pennylane) (3.4)\n",
      "Requirement already satisfied: urllib3<3,>=1.21.1 in /home/mihir/anaconda3/lib/python3.11/site-packages (from requests->pennylane) (2.2.3)\n",
      "Requirement already satisfied: certifi>=2017.4.17 in /home/mihir/anaconda3/lib/python3.11/site-packages (from requests->pennylane) (2023.11.17)\n",
      "Downloading PennyLane-0.38.0-py3-none-any.whl (1.9 MB)\n",
      "\u001b[2K   \u001b[38;2;114;156;31m━━━━━━━━━━━━━━━━━━━━━━━━━━━━━━━━━━━━━━━━\u001b[0m \u001b[32m1.9/1.9 MB\u001b[0m \u001b[31m13.7 MB/s\u001b[0m eta \u001b[36m0:00:00\u001b[0mm eta \u001b[36m0:00:01\u001b[0m0:01\u001b[0m01\u001b[0m\n",
      "\u001b[?25hDownloading autoray-0.7.0-py3-none-any.whl (930 kB)\n",
      "\u001b[2K   \u001b[38;2;114;156;31m━━━━━━━━━━━━━━━━━━━━━━━━━━━━━━━━━━━━━━━━\u001b[0m \u001b[32m930.0/930.0 kB\u001b[0m \u001b[31m51.2 MB/s\u001b[0m eta \u001b[36m0:00:00\u001b[0m\n",
      "\u001b[?25hDownloading PennyLane_Lightning-0.38.0-cp311-cp311-manylinux_2_28_x86_64.whl (15.4 MB)\n",
      "\u001b[2K   \u001b[38;2;114;156;31m━━━━━━━━━━━━━━━━━━━━━━━━━━━━━━━━━━━━━━━━\u001b[0m \u001b[32m15.4/15.4 MB\u001b[0m \u001b[31m41.0 MB/s\u001b[0m eta \u001b[36m0:00:00\u001b[0mm eta \u001b[36m0:00:01\u001b[0m0:01\u001b[0m01\u001b[0m\n",
      "\u001b[?25hDownloading autograd-1.7.0-py3-none-any.whl (52 kB)\n",
      "\u001b[2K   \u001b[38;2;114;156;31m━━━━━━━━━━━━━━━━━━━━━━━━━━━━━━━━━━━━━━━━\u001b[0m \u001b[32m52.5/52.5 kB\u001b[0m \u001b[31m6.0 MB/s\u001b[0m eta \u001b[36m0:00:00\u001b[0m\n",
      "\u001b[?25hDownloading cachetools-5.5.0-py3-none-any.whl (9.5 kB)\n",
      "Installing collected packages: cachetools, autoray, autograd, pennylane-lightning, pennylane\n",
      "Successfully installed autograd-1.7.0 autoray-0.7.0 cachetools-5.5.0 pennylane-0.38.0 pennylane-lightning-0.38.0\n",
      "Note: you may need to restart the kernel to use updated packages.\n"
     ]
    }
   ],
   "source": [
    "%pip install pennylane"
   ]
  },
  {
   "cell_type": "code",
   "execution_count": 3,
   "id": "40ca84bf",
   "metadata": {},
   "outputs": [],
   "source": [
    "import pennylane as qml\n",
    "from pennylane import numpy as np\n",
    "\n",
    "np.random.seed(42)"
   ]
  },
  {
   "cell_type": "code",
   "execution_count": 4,
   "id": "2b0aa366",
   "metadata": {},
   "outputs": [],
   "source": [
    "n_wires = 4\n",
    "graph = [(0, 1), (0, 3), (1, 2), (2, 3)]\n",
    "\n",
    "# unitary operator U_B with parameter beta\n",
    "def U_B(beta):\n",
    "    for wire in range(n_wires):\n",
    "        qml.RX(2 * beta, wires=wire)\n",
    "\n",
    "\n",
    "# unitary operator U_C with parameter gamma\n",
    "def U_C(gamma):\n",
    "    for edge in graph:\n",
    "        wire1 = edge[0]\n",
    "        wire2 = edge[1]\n",
    "        qml.CNOT(wires=[wire1, wire2])\n",
    "        qml.RZ(gamma, wires=wire2)\n",
    "        qml.CNOT(wires=[wire1, wire2])"
   ]
  },
  {
   "cell_type": "code",
   "execution_count": 5,
   "id": "ae08b326",
   "metadata": {},
   "outputs": [],
   "source": [
    "def bitstring_to_int(bit_string_sample):\n",
    "    bit_string = \"\".join(str(bs) for bs in bit_string_sample)\n",
    "    return int(bit_string, base=2)"
   ]
  },
  {
   "cell_type": "code",
   "execution_count": 6,
   "id": "3093f105",
   "metadata": {},
   "outputs": [],
   "source": [
    "dev = qml.device(\"lightning.qubit\", wires=n_wires, shots=1)"
   ]
  },
  {
   "cell_type": "code",
   "execution_count": 7,
   "id": "77c2fa20",
   "metadata": {},
   "outputs": [],
   "source": [
    "@qml.qnode(dev)\n",
    "def circuit(gammas, betas, edge=None, n_layers=1):\n",
    "    # apply Hadamards to get the n qubit |+> state\n",
    "    for wire in range(n_wires):\n",
    "        qml.Hadamard(wires=wire)\n",
    "    # p instances of unitary operators\n",
    "    for i in range(n_layers):\n",
    "        U_C(gammas[i])\n",
    "        U_B(betas[i])\n",
    "    if edge is None:\n",
    "        # measurement phase\n",
    "        return qml.sample()\n",
    "    # during the optimization phase we are evaluating a term\n",
    "    # in the objective using expval\n",
    "    H = qml.PauliZ(edge[0]) @ qml.PauliZ(edge[1])\n",
    "    return qml.expval(H)"
   ]
  },
  {
   "cell_type": "code",
   "execution_count": 8,
   "id": "fbfcd5ca",
   "metadata": {},
   "outputs": [
    {
     "name": "stdout",
     "output_type": "stream",
     "text": [
      "\n",
      "p=3\n",
      "Objective after step     5:  2.0000000\n",
      "Objective after step    10:  4.0000000\n",
      "Objective after step    15:  2.0000000\n",
      "Objective after step    20:  3.0000000\n",
      "Objective after step    25:  4.0000000\n",
      "Objective after step    30:  4.0000000\n",
      "Optimized (gamma, beta) vectors:\n",
      "[[-0.52858785  1.0267885   1.07405198]\n",
      " [ 0.25877859 -0.39749136 -0.31814994]]\n",
      "Most frequently sampled bit string is: 1010\n"
     ]
    }
   ],
   "source": [
    "def qaoa_maxcut(n_layers=1):\n",
    "    print(\"\\np={:d}\".format(n_layers))\n",
    "\n",
    "    # initialize the parameters near zero\n",
    "    init_params = 0.01 * np.random.rand(2, n_layers, requires_grad=True)\n",
    "\n",
    "    # minimize the negative of the objective function\n",
    "    def objective(params):\n",
    "        gammas = params[0]\n",
    "        betas = params[1]\n",
    "        neg_obj = 0\n",
    "        for edge in graph:\n",
    "            # objective for the MaxCut problem\n",
    "            neg_obj -= 0.5 * (1 - circuit(gammas, betas, edge=edge, n_layers=n_layers))\n",
    "        return neg_obj\n",
    "\n",
    "    # initialize optimizer: Adagrad works well empirically\n",
    "    opt = qml.AdagradOptimizer(stepsize=0.5)\n",
    "\n",
    "    # optimize parameters in objective\n",
    "    params = init_params\n",
    "    steps = 30\n",
    "    for i in range(steps):\n",
    "        params = opt.step(objective, params)\n",
    "        if (i + 1) % 5 == 0:\n",
    "            print(\"Objective after step {:5d}: {: .7f}\".format(i + 1, -objective(params)))\n",
    "\n",
    "    # sample measured bitstrings 100 times\n",
    "    bit_strings = []\n",
    "    n_samples = 100\n",
    "    for i in range(0, n_samples):\n",
    "        bit_strings.append(bitstring_to_int(circuit(params[0], params[1], edge=None, n_layers=n_layers)))\n",
    "\n",
    "    # print optimal parameters and most frequently sampled bitstring\n",
    "    counts = np.bincount(np.array(bit_strings))\n",
    "    most_freq_bit_string = np.argmax(counts)\n",
    "    print(\"Optimized (gamma, beta) vectors:\\n{}\".format(params[:, :n_layers]))\n",
    "    print(\"Most frequently sampled bit string is: {:04b}\".format(most_freq_bit_string))\n",
    "\n",
    "    return -objective(params), bit_strings\n",
    "\n",
    "\n",
    "# perform qaoa on our graph with p=1,2 and\n",
    "# keep the bitstring sample lists\n",
    "bitstrings2 = qaoa_maxcut(n_layers=3)[1]"
   ]
  },
  {
   "cell_type": "code",
   "execution_count": null,
   "id": "10d1a3e8",
   "metadata": {},
   "outputs": [],
   "source": [
    "import matplotlib.pyplot as plt\n",
    "\n",
    "xticks = range(0, 16)\n",
    "xtick_labels = list(map(lambda x: format(x, \"04b\"), xticks))\n",
    "bins = np.arange(0, 17) - 0.5\n",
    "\n",
    "fig, (ax1, ax2) = plt.subplots(1, 2, figsize=(8, 4))\n",
    "plt.subplot(1, 2, 1)\n",
    "plt.title(\"n_layers=1\")\n",
    "plt.xlabel(\"bitstrings\")\n",
    "plt.ylabel(\"freq.\")\n",
    "plt.xticks(xticks, xtick_labels, rotation=\"vertical\")\n",
    "plt.hist(bitstrings1, bins=bins)\n",
    "plt.subplot(1, 2, 2)\n",
    "plt.title(\"n_layers=2\")\n",
    "plt.xlabel(\"bitstrings\")\n",
    "plt.ylabel(\"freq.\")\n",
    "plt.xticks(xticks, xtick_labels, rotation=\"vertical\")\n",
    "plt.hist(bitstrings2, bins=bins)\n",
    "plt.tight_layout()\n",
    "plt.show()"
   ]
  }
 ],
 "metadata": {
  "kernelspec": {
   "display_name": "Python 3 (ipykernel)",
   "language": "python",
   "name": "python3"
  },
  "language_info": {
   "codemirror_mode": {
    "name": "ipython",
    "version": 3
   },
   "file_extension": ".py",
   "mimetype": "text/x-python",
   "name": "python",
   "nbconvert_exporter": "python",
   "pygments_lexer": "ipython3",
   "version": "3.11.5"
  }
 },
 "nbformat": 4,
 "nbformat_minor": 5
}
